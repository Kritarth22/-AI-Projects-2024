{
  "nbformat": 4,
  "nbformat_minor": 0,
  "metadata": {
    "colab": {
      "provenance": [],
      "include_colab_link": true
    },
    "kernelspec": {
      "name": "python3",
      "display_name": "Python 3"
    },
    "language_info": {
      "name": "python"
    }
  },
  "cells": [
    {
      "cell_type": "markdown",
      "metadata": {
        "id": "view-in-github",
        "colab_type": "text"
      },
      "source": [
        "<a href=\"https://colab.research.google.com/github/Kritarth22/-AI-Projects-2024/blob/main/Kritarth_Joshi_(202201338).ipynb\" target=\"_parent\"><img src=\"https://colab.research.google.com/assets/colab-badge.svg\" alt=\"Open In Colab\"/></a>"
      ]
    },
    {
      "cell_type": "markdown",
      "source": [
        "**Data types: strings, integers, floats, lists, tuples, and dictionaries**"
      ],
      "metadata": {
        "id": "gkJY0j5SPslo"
      }
    },
    {
      "cell_type": "code",
      "execution_count": null,
      "metadata": {
        "colab": {
          "base_uri": "https://localhost:8080/"
        },
        "id": "fFr8E5MYPoC8",
        "outputId": "ae892bc8-d332-4a0f-9592-c83991cb0724"
      },
      "outputs": [
        {
          "output_type": "stream",
          "name": "stdout",
          "text": [
            "Hello World\n",
            "<class 'str'>\n"
          ]
        }
      ],
      "source": [
        "# string\n",
        "x = \"Hello World\"\n",
        "\n",
        "print(x)\n",
        "print(type(x))"
      ]
    },
    {
      "cell_type": "code",
      "source": [
        "# integer\n",
        "x = 20\n",
        "print(x)\n",
        "\n",
        "y = int(20.5)\n",
        "print(y)"
      ],
      "metadata": {
        "colab": {
          "base_uri": "https://localhost:8080/"
        },
        "id": "QF-FR0V9Qnrt",
        "outputId": "6b17ad61-680f-4d3e-899a-79255eae9a15"
      },
      "execution_count": null,
      "outputs": [
        {
          "output_type": "stream",
          "name": "stdout",
          "text": [
            "20\n",
            "20\n"
          ]
        }
      ]
    },
    {
      "cell_type": "code",
      "source": [
        "# float\n",
        "x = 20.5\n",
        "print(x)"
      ],
      "metadata": {
        "colab": {
          "base_uri": "https://localhost:8080/"
        },
        "id": "1wkh2mvZRop3",
        "outputId": "344444e2-cc95-41eb-e94c-60769f668654"
      },
      "execution_count": null,
      "outputs": [
        {
          "output_type": "stream",
          "name": "stdout",
          "text": [
            "20.5\n"
          ]
        }
      ]
    },
    {
      "cell_type": "code",
      "source": [
        "# lists\n",
        "x = [\"Hello\", \"World\"]\n",
        "print(x)"
      ],
      "metadata": {
        "colab": {
          "base_uri": "https://localhost:8080/"
        },
        "id": "euUco-VpR5vk",
        "outputId": "ed383e0a-0479-4923-ca92-fb716f2dfb9b"
      },
      "execution_count": null,
      "outputs": [
        {
          "output_type": "stream",
          "name": "stdout",
          "text": [
            "['Hello', 'World']\n"
          ]
        }
      ]
    },
    {
      "cell_type": "code",
      "source": [
        "# tuples\n",
        "x = (\"Hello\", \"World\")\n",
        "print(x)"
      ],
      "metadata": {
        "colab": {
          "base_uri": "https://localhost:8080/"
        },
        "id": "u_bihd2yR7MJ",
        "outputId": "0efa2984-1eaf-4af5-bfc8-c628611a3001"
      },
      "execution_count": null,
      "outputs": [
        {
          "output_type": "stream",
          "name": "stdout",
          "text": [
            "('Hello', 'World')\n"
          ]
        }
      ]
    },
    {
      "cell_type": "code",
      "source": [
        "# dictionaries\n",
        "x = {\"name\" : \"Kritarth Joshi\", \"ID\" : 202201338}\n",
        "print(x)"
      ],
      "metadata": {
        "colab": {
          "base_uri": "https://localhost:8080/"
        },
        "id": "fkbxgWeHR-tS",
        "outputId": "244dfe7d-496c-4238-c284-58bb305e2096"
      },
      "execution_count": null,
      "outputs": [
        {
          "output_type": "stream",
          "name": "stdout",
          "text": [
            "{'name': 'Kritarth Joshi', 'ID': 202201338}\n"
          ]
        }
      ]
    },
    {
      "cell_type": "markdown",
      "source": [
        "**Operators: arithmetic operations, logical operations, and comparison operations.**"
      ],
      "metadata": {
        "id": "LxMeg13GS6Na"
      }
    },
    {
      "cell_type": "code",
      "source": [
        "# arithmatic operators\n",
        "\n",
        "# addition\n",
        "x = 10\n",
        "y = 2\n",
        "print(x + y)\n",
        "\n",
        "# subtraction\n",
        "x = 10\n",
        "y = 2\n",
        "print(x - y)\n",
        "\n",
        "# multiplication\n",
        "x = 10\n",
        "y = 2\n",
        "print(x * y)\n",
        "\n",
        "# division\n",
        "x = 10\n",
        "y = 2\n",
        "print(x / y)\n",
        "\n",
        "# modulus\n",
        "x = 10\n",
        "y = 2\n",
        "print(x % y)\n",
        "\n",
        "# exponentiation\n",
        "x = 10\n",
        "y = 2\n",
        "print(x ** y)\n",
        "\n",
        "# floor division\n",
        "x = 10\n",
        "y = 2\n",
        "print(x // y)"
      ],
      "metadata": {
        "colab": {
          "base_uri": "https://localhost:8080/"
        },
        "id": "epl0X42HToJJ",
        "outputId": "4d46b595-ceed-44f9-cd86-843fa5c3c5fe"
      },
      "execution_count": null,
      "outputs": [
        {
          "output_type": "stream",
          "name": "stdout",
          "text": [
            "12\n",
            "8\n",
            "20\n",
            "5.0\n",
            "0\n",
            "100\n",
            "5\n"
          ]
        }
      ]
    },
    {
      "cell_type": "code",
      "source": [
        "# logical operators\n",
        "\n",
        "# and\n",
        "x = 10\n",
        "y = 2\n",
        "print(x > 0 and y > 0)\n",
        "\n",
        "# not\n",
        "x = 10\n",
        "y = 2\n",
        "print(not(x > 0 and y > 0))\n",
        "\n",
        "# or\n",
        "x = 10\n",
        "y = 2\n",
        "print(x > 0 or y < 0)"
      ],
      "metadata": {
        "colab": {
          "base_uri": "https://localhost:8080/"
        },
        "id": "SqfBfB2GUjWx",
        "outputId": "f95703eb-ccac-4f88-e30f-b4d75633ab8c"
      },
      "execution_count": null,
      "outputs": [
        {
          "output_type": "stream",
          "name": "stdout",
          "text": [
            "True\n",
            "False\n",
            "True\n"
          ]
        }
      ]
    },
    {
      "cell_type": "code",
      "source": [
        "# comparison operators\n",
        "\n",
        "# equal\n",
        "x = 10\n",
        "y = 2\n",
        "print(x == y)\n",
        "\n",
        "# not equal\n",
        "x = 10\n",
        "y = 2\n",
        "print(x != y)\n",
        "\n",
        "# greater than\n",
        "x = 10\n",
        "y = 2\n",
        "print(x > y)\n",
        "\n",
        "# less than\n",
        "x = 10\n",
        "y = 2\n",
        "print(x < y)\n",
        "\n",
        "# greater than or equal to\n",
        "x = 10\n",
        "y = 10\n",
        "print(x >= y)\n",
        "\n",
        "# less than or equal to\n",
        "x = 10\n",
        "y = 2\n",
        "print(x <= y)"
      ],
      "metadata": {
        "colab": {
          "base_uri": "https://localhost:8080/"
        },
        "id": "s6T-WXURU8X3",
        "outputId": "7f7fb50f-7f6a-4e8f-c1dd-44dd93070309"
      },
      "execution_count": null,
      "outputs": [
        {
          "output_type": "stream",
          "name": "stdout",
          "text": [
            "False\n",
            "True\n",
            "True\n",
            "False\n",
            "True\n",
            "False\n"
          ]
        }
      ]
    },
    {
      "cell_type": "markdown",
      "source": [
        "\n",
        "**Control flow statements: if statements, else statements, elif statements, for loops, and while loops**"
      ],
      "metadata": {
        "id": "jztNzO5eWrQR"
      }
    },
    {
      "cell_type": "code",
      "source": [
        "# if statements, else statements, elif statements\n",
        "\n",
        "a = 150\n",
        "b = 300\n",
        "if b > a:\n",
        "  print(\"b is greater than a\")\n",
        "elif a == b:\n",
        "  print(\"a and b are equal\")\n",
        "else:\n",
        "  print(\"a is greater than b\")"
      ],
      "metadata": {
        "colab": {
          "base_uri": "https://localhost:8080/"
        },
        "id": "jkcQGFC8WqAC",
        "outputId": "74af326c-eaaa-40ac-b426-68a097775e9a"
      },
      "execution_count": null,
      "outputs": [
        {
          "output_type": "stream",
          "name": "stdout",
          "text": [
            "b is greater than a\n"
          ]
        }
      ]
    },
    {
      "cell_type": "code",
      "source": [
        "# for loop\n",
        "\n",
        "name = [\"Kritarth\", \"Joshi\"]\n",
        "for x in name:\n",
        "  print(x)"
      ],
      "metadata": {
        "colab": {
          "base_uri": "https://localhost:8080/"
        },
        "id": "xA4qBMXQXRlC",
        "outputId": "6189351e-643b-404b-fa62-2a2a1c03a0ea"
      },
      "execution_count": null,
      "outputs": [
        {
          "output_type": "stream",
          "name": "stdout",
          "text": [
            "Kritarth\n",
            "Joshi\n"
          ]
        }
      ]
    },
    {
      "cell_type": "code",
      "source": [
        "# while loop\n",
        "\n",
        "i = 1\n",
        "while i < 10: # print 1 to 9\n",
        "  print(i)\n",
        "  i += 1"
      ],
      "metadata": {
        "colab": {
          "base_uri": "https://localhost:8080/"
        },
        "id": "A4TYqdJbXi5D",
        "outputId": "2699358b-b262-4106-d7cb-ced3b7bf166c"
      },
      "execution_count": null,
      "outputs": [
        {
          "output_type": "stream",
          "name": "stdout",
          "text": [
            "1\n",
            "2\n",
            "3\n",
            "4\n",
            "5\n",
            "6\n",
            "7\n",
            "8\n",
            "9\n"
          ]
        }
      ]
    },
    {
      "cell_type": "markdown",
      "source": [
        "**Functions**"
      ],
      "metadata": {
        "id": "OfcCiuMOYCUk"
      }
    },
    {
      "cell_type": "code",
      "source": [
        "def my_name():\n",
        "  print(\"Kritarth Joshi\")\n",
        "\n",
        "my_name()"
      ],
      "metadata": {
        "colab": {
          "base_uri": "https://localhost:8080/"
        },
        "id": "u9Qr3srRYDXH",
        "outputId": "9430b262-2c3d-40d5-f9d4-3a7d8c24000a"
      },
      "execution_count": null,
      "outputs": [
        {
          "output_type": "stream",
          "name": "stdout",
          "text": [
            "Kritarth Joshi\n"
          ]
        }
      ]
    },
    {
      "cell_type": "markdown",
      "source": [
        "**Error handling**"
      ],
      "metadata": {
        "id": "X45GGtUHYZH-"
      }
    },
    {
      "cell_type": "code",
      "source": [
        "# try will generate error because z is not defined\n",
        "try:\n",
        "  print(z)\n",
        "except:\n",
        "  print(\"An exception occurred\")\n",
        "finally: # finally block will execute regardless of the try and except block\n",
        "  print(\"Hello World!\")"
      ],
      "metadata": {
        "colab": {
          "base_uri": "https://localhost:8080/"
        },
        "id": "J5ERUaHDYaGH",
        "outputId": "0f70d63a-da80-4043-e91d-0f11d6d4788c"
      },
      "execution_count": null,
      "outputs": [
        {
          "output_type": "stream",
          "name": "stdout",
          "text": [
            "An exception occurred\n",
            "Hello World!\n"
          ]
        }
      ]
    },
    {
      "cell_type": "markdown",
      "source": [
        "**Input Output**"
      ],
      "metadata": {
        "id": "zggof9JpZo6U"
      }
    },
    {
      "cell_type": "code",
      "source": [
        "# input\n",
        "num = input('num: ')\n",
        "# output\n",
        "print('You entered: ', num)"
      ],
      "metadata": {
        "colab": {
          "base_uri": "https://localhost:8080/"
        },
        "id": "sleV8r1WZuJM",
        "outputId": "9fda87a4-19e6-4345-ceac-b2ff0837fab5"
      },
      "execution_count": null,
      "outputs": [
        {
          "output_type": "stream",
          "name": "stdout",
          "text": [
            "num: 5\n",
            "You entered:  5\n"
          ]
        }
      ]
    }
  ]
}